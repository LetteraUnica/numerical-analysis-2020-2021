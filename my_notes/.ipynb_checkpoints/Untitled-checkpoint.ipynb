{
 "cells": [
  {
   "cell_type": "code",
   "execution_count": 43,
   "id": "9ec09399",
   "metadata": {},
   "outputs": [],
   "source": [
    "from scipy import optimize\n",
    "import pylab as pl\n",
    "import numpy as np\n",
    "from numba import njit\n",
    "from IPython.display import clear_output"
   ]
  },
  {
   "cell_type": "code",
   "execution_count": 64,
   "id": "b7d14d54",
   "metadata": {},
   "outputs": [
    {
     "name": "stdout",
     "output_type": "stream",
     "text": [
      "9900\n"
     ]
    }
   ],
   "source": [
    "class non_linear_pde(object):\n",
    "    def __init__(self, hx, dt, y0):\n",
    "        self.hx = hx\n",
    "        self.dt = dt\n",
    "        self.y0 = y0\n",
    "    \n",
    "    def derivate(self, x):\n",
    "        y = np.empty_like(x)\n",
    "        y[1:-1] = (x[2:] - x[:-2])/(2*self.hx)\n",
    "        y[0] = (x[1] - x[-1])/(2*self.hx)\n",
    "        y[-1] = (x[0] - x[-2])/(2*self.hx)\n",
    "        return y\n",
    "    \n",
    "    def derivate2(self, x):\n",
    "        y = np.empty_like(x)\n",
    "        y[1:-1] = (x[2:] -2*x[1:-1] +x[:-2])/(self.hx**2)\n",
    "        y[0] = (x[-1] -2*x[0] +x[1])/(self.hx**2)\n",
    "        y[-1] = (x[-2] -2*x[-1] +x[0])/(self.hx**2)\n",
    "        return y\n",
    "    \n",
    "    def rhs(self, y1):\n",
    "        y_prime = self.derivate(y1)\n",
    "        return y1**2*(y1*self.derivate2(y1) + y_prime*(1+y_prime))\n",
    "    \n",
    "    def loss(self, y1):\n",
    "        return y1 - self.y0 - self.dt*self.rhs(y1)\n",
    "    \n",
    "    def loss_minimize(self, y1):\n",
    "        return np.linalg.norm((self.y0 - self.rhs(y1)))\n",
    "    \n",
    "    def solve(self):\n",
    "        return optimize.newton_krylov(self.loss, self.y0)\n",
    "    \n",
    "    def minimize(self):\n",
    "        return optimize.minimize(self.loss_minimize, self.y0)\n",
    "    \n",
    "def start(x):\n",
    "    return np.cos(x/2)\n",
    "\n",
    "Nx = 2000\n",
    "Nt = 10000\n",
    "hx = 2*np.pi/Nx\n",
    "dt = 0.01\n",
    "x = np.linspace(-np.pi, np.pi, Nx)\n",
    "y0 = start(x)\n",
    "y = np.empty((Nt, Nx))\n",
    "\n",
    "for i in range(Nt):\n",
    "    if i%100 == 0:\n",
    "        clear_output()\n",
    "        print(i)\n",
    "    y[i] = y0\n",
    "    pde = non_linear_pde(hx, dt, y0)\n",
    "    y0 = pde.solve()"
   ]
  },
  {
   "cell_type": "code",
   "execution_count": 65,
   "id": "af4bb5eb",
   "metadata": {},
   "outputs": [
    {
     "data": {
      "text/plain": [
       "<matplotlib.contour.QuadContourSet at 0x7fd561488ca0>"
      ]
     },
     "execution_count": 65,
     "metadata": {},
     "output_type": "execute_result"
    },
    {
     "data": {
      "image/png": "[encoded data removed]",
      "text/plain": [
       "<Figure size 432x288 with 1 Axes>"
      ]
     },
     "metadata": {
      "needs_background": "light"
     },
     "output_type": "display_data"
    }
   ],
   "source": [
    "pl.contourf(y, 50)"
   ]
  }
 ],
 "metadata": {
  "kernelspec": {
   "display_name": "Python 3",
   "language": "python",
   "name": "python3"
  },
  "language_info": {
   "codemirror_mode": {
    "name": "ipython",
    "version": 3
   },
   "file_extension": ".py",
   "mimetype": "text/x-python",
   "name": "python",
   "nbconvert_exporter": "python",
   "pygments_lexer": "ipython3",
   "version": "3.8.8"
  }
 },
 "nbformat": 4,
 "nbformat_minor": 5
}
