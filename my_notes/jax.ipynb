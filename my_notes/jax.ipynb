{
 "cells": [
  {
   "cell_type": "code",
   "execution_count": 30,
   "id": "106dadd6-0820-45c3-a443-78bf28b30526",
   "metadata": {},
   "outputs": [],
   "source": [
    "import jax\n",
    "import jax.numpy as jnp\n",
    "from jax import grad, vmap, jit\n",
    "import numpy as np"
   ]
  },
  {
   "cell_type": "code",
   "execution_count": 53,
   "id": "a03406d1-6461-488b-b2df-6da540288cb3",
   "metadata": {},
   "outputs": [
    {
     "name": "stdout",
     "output_type": "stream",
     "text": [
      "557 µs ± 7.94 µs per loop (mean ± std. dev. of 7 runs, 1000 loops each)\n"
     ]
    }
   ],
   "source": [
    "def f(x):\n",
    "    return jnp.tanh(x)\n",
    "\n",
    "x = jnp.linspace(-5, 5, 1000000)\n",
    "\n",
    "gradient = jit(vmap(grad(f)))\n",
    "%timeit gradient(x)"
   ]
  },
  {
   "cell_type": "code",
   "execution_count": 68,
   "id": "e9574134-8443-4c23-b2bc-b1f9745c807f",
   "metadata": {},
   "outputs": [
    {
     "name": "stdout",
     "output_type": "stream",
     "text": [
      "557 µs ± 4.66 µs per loop (mean ± std. dev. of 7 runs, 1000 loops each)\n"
     ]
    }
   ],
   "source": [
    "class function:\n",
    "    def __init__(self, a, b):\n",
    "        self.a = a\n",
    "        self.b = b\n",
    "        self.compile_f()\n",
    "    \n",
    "    def f(self, x):\n",
    "        return self.a*x + self.b\n",
    "    \n",
    "    def compile_f(self):\n",
    "        self.f = jit(self.f)\n",
    "    \n",
    "g = function(1, 2)\n",
    "\n",
    "compiled = jit(g.f)\n",
    "\n",
    "%timeit g.f(x)"
   ]
  }
 ],
 "metadata": {
  "kernelspec": {
   "display_name": "Python 3",
   "language": "python",
   "name": "python3"
  },
  "language_info": {
   "codemirror_mode": {
    "name": "ipython",
    "version": 3
   },
   "file_extension": ".py",
   "mimetype": "text/x-python",
   "name": "python",
   "nbconvert_exporter": "python",
   "pygments_lexer": "ipython3",
   "version": "3.8.8"
  }
 },
 "nbformat": 4,
 "nbformat_minor": 5
}
