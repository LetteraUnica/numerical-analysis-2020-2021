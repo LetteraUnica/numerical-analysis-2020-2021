{
 "cells": [
  {
   "cell_type": "code",
   "execution_count": 1,
   "metadata": {},
   "outputs": [],
   "source": [
    "import sympy as sp"
   ]
  },
  {
   "cell_type": "code",
   "execution_count": 16,
   "metadata": {},
   "outputs": [
    {
     "name": "stdout",
     "output_type": "stream",
     "text": [
      "z\n",
      "(1 - x)**2\n"
     ]
    }
   ],
   "source": [
    "x = sp.var(\"x\")\n",
    "y = sp.var(\"z\")\n",
    "print(y)\n",
    "\n",
    "y = (1-x)**2 # Overrides my previuos definition of y\n",
    "print(y)"
   ]
  },
  {
   "cell_type": "code",
   "execution_count": 20,
   "metadata": {},
   "outputs": [],
   "source": [
    "import numpy as np\n",
    "import pylab as pl"
   ]
  },
  {
   "cell_type": "code",
   "execution_count": 39,
   "metadata": {},
   "outputs": [
    {
     "data": {
      "text/plain": [
       "[<matplotlib.lines.Line2D at 0x7f0c966eef70>,\n",
       " <matplotlib.lines.Line2D at 0x7f0c966f80d0>,\n",
       " <matplotlib.lines.Line2D at 0x7f0c966f8190>,\n",
       " <matplotlib.lines.Line2D at 0x7f0c966f8250>,\n",
       " <matplotlib.lines.Line2D at 0x7f0c966f8310>]"
      ]
     },
     "execution_count": 39,
     "metadata": {},
     "output_type": "execute_result"
    }
   ],
   "source": [
    "# I want to generate the lagrangian basis\n",
    "# basis[i, j] = l_j(x_i)\n",
    "# q: evaluated funcion points\n",
    "# x: needed basis points\n",
    "def generate_lagrangian_basis(q, x):\n",
    "    n_q_points = q.shape[0]\n",
    "    n_x_points = x.shape[0]\n",
    "    \n",
    "    basis = np.ones((n_x_points, n_q_points))\n",
    "    \n",
    "    for i in range(n_x_points):\n",
    "        for j in range(n_q_points):\n",
    "            # basis[i, j] = prod_k (x_i - q_k) / (q_j - q_k)\n",
    "            for k in range(n_q_points):\n",
    "                if (j==k):\n",
    "                    continue\n",
    "                basis[i, j] *= (x[i] - q[k]) / (q[j] - q[k])\n",
    "    \n",
    "    return basis\n",
    "\n",
    "x0 = -1\n",
    "xn = 1\n",
    "n = 5\n",
    "q = np.linspace(x0, xn, n)\n",
    "x = np.linspace(x0, xn, 1000)\n",
    "\n",
    "%matplotlib qt\n",
    "pl.plot(x, generate_lagrangian_basis(q, x))"
   ]
  },
  {
   "cell_type": "code",
   "execution_count": 110,
   "metadata": {},
   "outputs": [],
   "source": [
    "a = np.zeros((10000, 10000))\n"
   ]
  },
  {
   "cell_type": "code",
   "execution_count": 111,
   "metadata": {},
   "outputs": [],
   "source": [
    "del(a)"
   ]
  },
  {
   "cell_type": "code",
   "execution_count": 140,
   "metadata": {},
   "outputs": [
    {
     "data": {
      "text/plain": [
       "array([[0., 0., 0., 0.],\n",
       "       [0., 0., 0., 0.],\n",
       "       [0., 0., 0., 0.],\n",
       "       [0., 0., 0., 0.]])"
      ]
     },
     "execution_count": 140,
     "metadata": {},
     "output_type": "execute_result"
    }
   ],
   "source": [
    "np.empty((4,4))"
   ]
  }
 ],
 "metadata": {
  "kernelspec": {
   "display_name": "Python 3",
   "language": "python",
   "name": "python3"
  },
  "language_info": {
   "codemirror_mode": {
    "name": "ipython",
    "version": 3
   },
   "file_extension": ".py",
   "mimetype": "text/x-python",
   "name": "python",
   "nbconvert_exporter": "python",
   "pygments_lexer": "ipython3",
   "version": "3.8.3"
  }
 },
 "nbformat": 4,
 "nbformat_minor": 4
}
